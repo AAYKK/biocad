{
 "cells": [
  {
   "cell_type": "markdown",
   "metadata": {},
   "source": [
    "# Задание №1"
   ]
  },
  {
   "cell_type": "code",
   "execution_count": 28,
   "metadata": {},
   "outputs": [
    {
     "data": {
      "text/latex": [
       "$\\displaystyle MSE = \\frac{1}{n} \\sum_{i=1}^{n} (y_i - \\hat{y_i})^2$"
      ],
      "text/plain": [
       "<IPython.core.display.Math object>"
      ]
     },
     "metadata": {},
     "output_type": "display_data"
    },
    {
     "name": "stdout",
     "output_type": "stream",
     "text": [
      "mse для функции F1 = 95.5\n",
      "mse для функции F2 = 9.75\n",
      "mse для функции F3 = 8.9375\n",
      "\n",
      "Функция с наименьшей среднеквадратичной ошибкой: F1\n"
     ]
    }
   ],
   "source": [
    "from IPython.display import display, Math\n",
    "\n",
    "#Формула среднеквадратичной ошибки\n",
    "display(Math(r'MSE = \\frac{1}{n} \\sum_{i=1}^{n} (y_i - \\hat{y_i})^2'))\n",
    "\n",
    "#Исходные данные\n",
    "X=[1,2,3,5]\n",
    "Y=[5,13,12,14]\n",
    "\n",
    "#Исходные функции\n",
    "def F1(x):\n",
    "    return 15+2*x\n",
    "\n",
    "def F2(x):\n",
    "    return 10+x\n",
    "            \n",
    "def F3(x):\n",
    "    return 5+1.5*x\n",
    "\n",
    "mse_for_all_funcs={}\n",
    "\n",
    "for func in (F1,F2,F3):\n",
    "    #список ошибок каждой строки для конкретной функции\n",
    "    errors=[]\n",
    "    \n",
    "    #расчет ошибок каждой строки для конкретной функции\n",
    "    for i in range(len(X)):\n",
    "        y_pred=func(X[i])\n",
    "        y=Y[i]\n",
    "        square_error=(y-y_pred)**2\n",
    "        errors.append(square_error)\n",
    "\n",
    "    mse=sum(errors)/len(errors)\n",
    "\n",
    "    print(f\"mse для функции {func.__name__} = {mse}\")\n",
    "    \n",
    "    mse_for_all_funcs[func.__name__]=mse\n",
    "    \n",
    "    \n",
    "print(f\"\\nФункция с наименьшей среднеквадратичной ошибкой: {min((mse_for_all_funcs))}\")\n"
   ]
  },
  {
   "cell_type": "markdown",
   "metadata": {},
   "source": [
    "# Задание №2 (Метод наименьших квадратов)"
   ]
  },
  {
   "cell_type": "code",
   "execution_count": 36,
   "metadata": {},
   "outputs": [
    {
     "data": {
      "text/html": [
       "<div>\n",
       "<style scoped>\n",
       "    .dataframe tbody tr th:only-of-type {\n",
       "        vertical-align: middle;\n",
       "    }\n",
       "\n",
       "    .dataframe tbody tr th {\n",
       "        vertical-align: top;\n",
       "    }\n",
       "\n",
       "    .dataframe thead th {\n",
       "        text-align: right;\n",
       "    }\n",
       "</style>\n",
       "<table border=\"1\" class=\"dataframe\">\n",
       "  <thead>\n",
       "    <tr style=\"text-align: right;\">\n",
       "      <th></th>\n",
       "      <th>X</th>\n",
       "      <th>Y</th>\n",
       "      <th>X2</th>\n",
       "      <th>XY</th>\n",
       "    </tr>\n",
       "  </thead>\n",
       "  <tbody>\n",
       "    <tr>\n",
       "      <th>0</th>\n",
       "      <td>1</td>\n",
       "      <td>5</td>\n",
       "      <td>1</td>\n",
       "      <td>5</td>\n",
       "    </tr>\n",
       "    <tr>\n",
       "      <th>1</th>\n",
       "      <td>2</td>\n",
       "      <td>13</td>\n",
       "      <td>4</td>\n",
       "      <td>26</td>\n",
       "    </tr>\n",
       "    <tr>\n",
       "      <th>2</th>\n",
       "      <td>3</td>\n",
       "      <td>12</td>\n",
       "      <td>9</td>\n",
       "      <td>36</td>\n",
       "    </tr>\n",
       "    <tr>\n",
       "      <th>3</th>\n",
       "      <td>5</td>\n",
       "      <td>14</td>\n",
       "      <td>25</td>\n",
       "      <td>70</td>\n",
       "    </tr>\n",
       "  </tbody>\n",
       "</table>\n",
       "</div>"
      ],
      "text/plain": [
       "   X   Y  X2  XY\n",
       "0  1   5   1   5\n",
       "1  2  13   4  26\n",
       "2  3  12   9  36\n",
       "3  5  14  25  70"
      ]
     },
     "execution_count": 36,
     "metadata": {},
     "output_type": "execute_result"
    }
   ],
   "source": [
    "import pandas as pd\n",
    "import numpy as np\n",
    "data={'X':[1,2,3,5], 'Y':[5,13,12,14]}\n",
    "\n",
    "data=pd.DataFrame(data)\n",
    "\n",
    "data['X2']=data['X']**2\n",
    "data['XY']=data['Y']*data['X']\n",
    "\n",
    "data"
   ]
  },
  {
   "cell_type": "code",
   "execution_count": 42,
   "metadata": {},
   "outputs": [],
   "source": [
    "sum_X=sum(data['X'])\n",
    "sum_X2=sum(data['X2'])\n",
    "sum_XY=sum(data['XY'])\n",
    "sum_Y=sum(data['Y'])"
   ]
  },
  {
   "cell_type": "markdown",
   "metadata": {},
   "source": [
    "##### Получаем систему уравнений и далее решаем методом Краммера"
   ]
  },
  {
   "cell_type": "code",
   "execution_count": 43,
   "metadata": {},
   "outputs": [
    {
     "name": "stdout",
     "output_type": "stream",
     "text": [
      "a*39+b*11=137\n",
      "a*11+b*4=44\n"
     ]
    }
   ],
   "source": [
    "print(f\"a*{sum_X2}+b*{sum_X}={sum_XY}\")\n",
    "print(f\"a*{sum_X}+b*{len(data['X'])}={sum_Y}\")"
   ]
  },
  {
   "cell_type": "code",
   "execution_count": 55,
   "metadata": {},
   "outputs": [
    {
     "name": "stdout",
     "output_type": "stream",
     "text": [
      "Система совместна так как Δ=35.0 и Δ!=0\n"
     ]
    }
   ],
   "source": [
    "delta1=np.array([[sum_X2,sum_X],[sum_X,len(data['X'])]])\n",
    "\n",
    "delta=np.linalg.det(delta1)\n",
    "\n",
    "if delta!=0:\n",
    "    print(f\"Система совместна так как Δ={round(delta,2)} и Δ!=0\")"
   ]
  },
  {
   "cell_type": "code",
   "execution_count": 60,
   "metadata": {},
   "outputs": [],
   "source": [
    "delta1_x=np.array([[sum_XY,sum_X],[sum_Y,len(data['X'])]])\n",
    "delta_x=np.linalg.det(delta1_x)\n",
    "\n",
    "delta1_y=np.array([[sum_X2,sum_XY],[sum_X,sum_Y]])\n",
    "delta_y=np.linalg.det(delta1_y)\n",
    "\n",
    "a=delta_x/delta\n",
    "b=delta_y/delta"
   ]
  },
  {
   "cell_type": "markdown",
   "metadata": {},
   "source": [
    "##### Строим график график точек и линии тренда"
   ]
  },
  {
   "cell_type": "code",
   "execution_count": 61,
   "metadata": {},
   "outputs": [
    {
     "data": {
      "text/plain": [
       "[<matplotlib.lines.Line2D at 0x2e1f9a69d00>]"
      ]
     },
     "execution_count": 61,
     "metadata": {},
     "output_type": "execute_result"
    },
    {
     "data": {
      "image/png": "[encoded data removed]",
      "text/plain": [
       "<Figure size 640x480 with 1 Axes>"
      ]
     },
     "metadata": {},
     "output_type": "display_data"
    }
   ],
   "source": [
    "import matplotlib.pyplot as plt\n",
    "\n",
    "fx=a*data['X']+b\n",
    "\n",
    "plt.scatter(data['X'],data['Y'])\n",
    "plt.plot(data['X'], fx)"
   ]
  },
  {
   "cell_type": "markdown",
   "metadata": {},
   "source": [
    "# Задание №3 (MSE для второго задания)"
   ]
  },
  {
   "cell_type": "code",
   "execution_count": 73,
   "metadata": {},
   "outputs": [
    {
     "name": "stdout",
     "output_type": "stream",
     "text": [
      "mse для задачи №2 = 5.19\n"
     ]
    }
   ],
   "source": [
    "errors=[]\n",
    "for i in range(len(data['X'])):\n",
    "    error=(data.loc[i]['Y']-(a*data.loc[i]['X']+b))**2\n",
    "    errors.append(error)\n",
    "    \n",
    "mse=sum(errors)/len(errors)\n",
    "print(f\"mse для задачи №2 = {round(mse,2)}\")"
   ]
  }
 ],
 "metadata": {
  "kernelspec": {
   "display_name": "Python 3",
   "language": "python",
   "name": "python3"
  },
  "language_info": {
   "codemirror_mode": {
    "name": "ipython",
    "version": 3
   },
   "file_extension": ".py",
   "mimetype": "text/x-python",
   "name": "python",
   "nbconvert_exporter": "python",
   "pygments_lexer": "ipython3",
   "version": "3.9.0"
  }
 },
 "nbformat": 4,
 "nbformat_minor": 2
}
